{
  "cells": [
    {
      "cell_type": "code",
      "execution_count": null,
      "metadata": {
        "vscode": {
          "languageId": "plaintext"
        }
      },
      "outputs": [],
      "source": [
        "---\n",
        "sidebar_label: Stability\n",
        "---\n"
      ]
    },
    {
      "cell_type": "code",
      "execution_count": null,
      "metadata": {
        "vscode": {
          "languageId": "plaintext"
        }
      },
      "outputs": [],
      "source": [
        "# Stability\n",
        "\n",
        "[Stability Protocol](https://portal.stabilityprotocol.com/) provides the first Zero Gas Transaction (ZKT) API, enabling AI agents to interact with blockchain without cryptocurrency requirements.\n",
        "\n",
        "## Overview\n",
        "\n",
        "The Stability Toolkit allows LangChain agents to deploy smart contracts, read/write blockchain data, and send transactions with zero gas fees using FREE API keys.\n",
        "\n",
        "The toolkit provides 4 main tools:\n",
        "- **StabilityWriteTool**: Send plain text messages to the blockchain\n",
        "- **StabilityReadTool**: Read data from smart contracts  \n",
        "- **StabilityWriteContractTool**: Execute state-changing smart contract calls\n",
        "- **StabilityDeployTool**: Deploy Solidity smart contracts\n",
        "\n",
        "Key features:\n",
        "- 🚀 Zero gas fees - no cryptocurrency required\n",
        "- 🔑 FREE API keys from portal.stabilityprotocol.com\n",
        "- 🛡️ Production-ready with enterprise security\n",
        "- 🤖 AI-first design for seamless agent integration\n"
      ]
    },
    {
      "cell_type": "code",
      "execution_count": null,
      "metadata": {
        "vscode": {
          "languageId": "plaintext"
        }
      },
      "outputs": [],
      "source": [
        "## Setup\n",
        "\n",
        "Install the package and get your FREE API key:\n"
      ]
    },
    {
      "cell_type": "code",
      "execution_count": null,
      "metadata": {},
      "outputs": [],
      "source": [
        "!pip install stability-toolkit\n"
      ]
    },
    {
      "cell_type": "code",
      "execution_count": null,
      "metadata": {
        "vscode": {
          "languageId": "plaintext"
        }
      },
      "outputs": [],
      "source": [
        "Get your FREE API key from [portal.stabilityprotocol.com](https://portal.stabilityprotocol.com/):\n",
        "- Up to 3 API keys per account\n",
        "- 1,000 write transactions per month  \n",
        "- 200 read operations per minute\n",
        "- Completely free access\n"
      ]
    },
    {
      "cell_type": "code",
      "execution_count": null,
      "metadata": {},
      "outputs": [],
      "source": [
        "import os\n",
        "\n",
        "os.environ[\"STABILITY_API_KEY\"] = \"your-api-key-from-portal\"\n"
      ]
    },
    {
      "cell_type": "code",
      "execution_count": null,
      "metadata": {
        "vscode": {
          "languageId": "plaintext"
        }
      },
      "outputs": [],
      "source": [
        "## Instantiation\n",
        "\n",
        "Initialize the Stability Toolkit:\n"
      ]
    },
    {
      "cell_type": "code",
      "execution_count": null,
      "metadata": {},
      "outputs": [],
      "source": [
        "from stability_toolkit import StabilityToolkit\n",
        "\n",
        "# Initialize with environment variable\n",
        "toolkit = StabilityToolkit()\n",
        "\n",
        "# Or pass API key directly\n",
        "# toolkit = StabilityToolkit(api_key=\"your-api-key-from-portal\")\n",
        "\n",
        "# Get all tools\n",
        "tools = toolkit.get_tools()\n",
        "print(f\"Available tools: {len(tools)}\")\n",
        "for tool in tools:\n",
        "    print(f\"- {tool.name}: {tool.description}\")\n"
      ]
    },
    {
      "cell_type": "code",
      "execution_count": null,
      "metadata": {
        "vscode": {
          "languageId": "plaintext"
        }
      },
      "outputs": [],
      "source": []
    },
    {
      "cell_type": "code",
      "execution_count": null,
      "metadata": {},
      "outputs": [],
      "source": []
    },
    {
      "cell_type": "code",
      "execution_count": null,
      "metadata": {
        "vscode": {
          "languageId": "plaintext"
        }
      },
      "outputs": [],
      "source": [
        "## Invocation\n",
        "\n",
        "Use the tools individually:\n"
      ]
    },
    {
      "cell_type": "code",
      "execution_count": null,
      "metadata": {},
      "outputs": [],
      "source": [
        "# Send a message to blockchain\n",
        "write_tool = tools[0]  # StabilityWriteTool\n",
        "result = write_tool.invoke(\"Hello from LangChain!\")\n",
        "print(f\"Transaction result: {result}\")\n",
        "\n",
        "# Smart contract interaction example\n",
        "import json\n",
        "read_tool = tools[1]  # StabilityReadTool\n",
        "read_params = {\n",
        "    \"to\": \"0x1234567890123456789012345678901234567890\",\n",
        "    \"abi\": [\"function balanceOf(address) view returns (uint256)\"],\n",
        "    \"method\": \"balanceOf\", \n",
        "    \"arguments\": [\"0xabcdefabcdefabcdefabcdefabcdefabcdefabcd\"]\n",
        "}\n",
        "balance = read_tool.invoke(json.dumps(read_params))\n",
        "print(f\"Balance: {balance}\")\n"
      ]
    },
    {
      "cell_type": "code",
      "execution_count": null,
      "metadata": {
        "vscode": {
          "languageId": "plaintext"
        }
      },
      "outputs": [],
      "source": [
        "## Invocation\n",
        "\n",
        "Use the tools individually:\n"
      ]
    },
    {
      "cell_type": "code",
      "execution_count": null,
      "metadata": {},
      "outputs": [],
      "source": [
        "# Send a message to blockchain\n",
        "write_tool = tools[0]  # StabilityWriteTool\n",
        "result = write_tool.invoke(\"Hello from LangChain!\")\n",
        "print(f\"Transaction result: {result}\")\n",
        "\n",
        "# Smart contract interaction example\n",
        "import json\n",
        "read_tool = tools[1]  # StabilityReadTool\n",
        "read_params = {\n",
        "    \"to\": \"0x1234567890123456789012345678901234567890\",\n",
        "    \"abi\": [\"function balanceOf(address) view returns (uint256)\"],\n",
        "    \"method\": \"balanceOf\", \n",
        "    \"arguments\": [\"0xabcdefabcdefabcdefabcdefabcdefabcdefabcd\"]\n",
        "}\n",
        "balance = read_tool.invoke(json.dumps(read_params))\n",
        "print(f\"Balance: {balance}\")\n"
      ]
    },
    {
      "cell_type": "code",
      "execution_count": null,
      "metadata": {
        "vscode": {
          "languageId": "plaintext"
        }
      },
      "outputs": [],
      "source": [
        "## Use within an agent\n",
        "\n",
        "Use the Stability Toolkit with LangChain agents:\n"
      ]
    },
    {
      "cell_type": "code",
      "execution_count": null,
      "metadata": {},
      "outputs": [],
      "source": [
        "from langchain.agents import initialize_agent, AgentType\n",
        "from langchain_openai import ChatOpenAI\n",
        "\n",
        "# Initialize LLM and tools\n",
        "llm = ChatOpenAI(temperature=0)\n",
        "tools = toolkit.get_tools()\n",
        "\n",
        "# Create agent with Stability tools\n",
        "agent = initialize_agent(\n",
        "    tools=tools,\n",
        "    llm=llm,\n",
        "    agent=AgentType.ZERO_SHOT_REACT_DESCRIPTION,\n",
        "    verbose=True\n",
        ")\n",
        "\n",
        "# Agent can now interact with blockchain\n",
        "result = agent.run(\n",
        "    \"Send a message 'AI agent transaction' to the blockchain and return the transaction hash\"\n",
        ")\n",
        "print(result)\n"
      ]
    },
    {
      "cell_type": "code",
      "execution_count": null,
      "metadata": {
        "vscode": {
          "languageId": "plaintext"
        }
      },
      "outputs": [],
      "source": [
        "## API reference\n",
        "\n",
        "For detailed documentation of all parameters and methods, see the [Stability Toolkit API reference](https://pypi.org/project/stability-toolkit/).\n",
        "\n",
        "**Resources:**\n",
        "- **Portal**: [portal.stabilityprotocol.com](https://portal.stabilityprotocol.com/)\n",
        "- **GitHub**: [stability-toolkit](https://github.com/nuljui/stability-toolkit)\n",
        "- **PyPI**: [stability-toolkit](https://pypi.org/project/stability-toolkit/)\n",
        "- **Support**: contact@stabilityprotocol.com\n"
      ]
    },
    {
      "cell_type": "code",
      "execution_count": null,
      "metadata": {
        "vscode": {
          "languageId": "plaintext"
        }
      },
      "outputs": [],
      "source": [
        "---\n",
        "sidebar_label: Stability\n",
        "---\n"
      ]
    },
    {
      "cell_type": "code",
      "execution_count": null,
      "metadata": {
        "vscode": {
          "languageId": "plaintext"
        }
      },
      "outputs": [],
      "source": [
        "# Stability\n",
        "\n",
        "[Stability Protocol](https://portal.stabilityprotocol.com/) provides the first Zero Gas Transaction (ZKT) API, enabling AI agents to interact with blockchain without cryptocurrency requirements.\n",
        "\n",
        "The Stability Toolkit allows LangChain agents to deploy smart contracts, read/write blockchain data, and send transactions with zero gas fees using FREE API keys.\n",
        "\n",
        "## Installation and Setup\n",
        "\n",
        "Install the Stability Toolkit:\n"
      ]
    },
    {
      "cell_type": "code",
      "execution_count": null,
      "metadata": {},
      "outputs": [],
      "source": [
        "!pip install stability-toolkit\n"
      ]
    },
    {
      "cell_type": "code",
      "execution_count": null,
      "metadata": {
        "vscode": {
          "languageId": "plaintext"
        }
      },
      "outputs": [],
      "source": [
        "Get your FREE API key from [portal.stabilityprotocol.com](https://portal.stabilityprotocol.com/):\n",
        "- Up to 3 API keys per account\n",
        "- 1,000 write transactions per month  \n",
        "- 200 read operations per minute\n",
        "- Completely free access\n",
        "\n",
        "Set your API key:\n"
      ]
    },
    {
      "cell_type": "code",
      "execution_count": null,
      "metadata": {},
      "outputs": [],
      "source": [
        "import os\n",
        "os.environ[\"STABILITY_API_KEY\"] = \"your-api-key-from-portal\"\n"
      ]
    },
    {
      "cell_type": "code",
      "execution_count": null,
      "metadata": {
        "vscode": {
          "languageId": "plaintext"
        }
      },
      "outputs": [],
      "source": [
        "## Toolkit Usage\n",
        "\n",
        "Initialize the toolkit and get all tools:\n"
      ]
    },
    {
      "cell_type": "code",
      "execution_count": null,
      "metadata": {},
      "outputs": [],
      "source": [
        "from stability_toolkit import StabilityToolkit\n",
        "\n",
        "# Initialize with environment variable\n",
        "toolkit = StabilityToolkit()\n",
        "\n",
        "# Get all tools\n",
        "tools = toolkit.get_tools()\n",
        "print(f\"Available tools: {len(tools)}\")\n",
        "for tool in tools:\n",
        "    print(f\"- {tool.name}: {tool.description}\")\n"
      ]
    },
    {
      "cell_type": "code",
      "execution_count": null,
      "metadata": {
        "vscode": {
          "languageId": "plaintext"
        }
      },
      "outputs": [],
      "source": [
        "## Example Usage\n",
        "\n",
        "### Basic Message to Blockchain\n"
      ]
    },
    {
      "cell_type": "code",
      "execution_count": null,
      "metadata": {},
      "outputs": [],
      "source": [
        "# Send a message to blockchain\n",
        "write_tool = tools[0]  # StabilityWriteTool\n",
        "result = write_tool.invoke(\"Hello from LangChain!\")\n",
        "print(f\"Transaction result: {result}\")\n"
      ]
    },
    {
      "cell_type": "code",
      "execution_count": null,
      "metadata": {
        "vscode": {
          "languageId": "plaintext"
        }
      },
      "outputs": [],
      "source": [
        "### Integration with LangChain Agents\n",
        "\n",
        "Use the Stability Toolkit with LangChain agents:\n"
      ]
    },
    {
      "cell_type": "code",
      "execution_count": null,
      "metadata": {},
      "outputs": [],
      "source": [
        "from langchain.agents import initialize_agent, AgentType\n",
        "from langchain_openai import ChatOpenAI\n",
        "\n",
        "# Initialize LLM and tools\n",
        "llm = ChatOpenAI(temperature=0)\n",
        "tools = toolkit.get_tools()\n",
        "\n",
        "# Create agent with Stability tools\n",
        "agent = initialize_agent(\n",
        "    tools=tools,\n",
        "    llm=llm,\n",
        "    agent=AgentType.ZERO_SHOT_REACT_DESCRIPTION,\n",
        "    verbose=True\n",
        ")\n",
        "\n",
        "# Agent can now interact with blockchain\n",
        "result = agent.run(\n",
        "    \"Send a message 'AI agent transaction' to the blockchain and return the transaction hash\"\n",
        ")\n",
        "print(result)\n"
      ]
    },
    {
      "cell_type": "code",
      "execution_count": null,
      "metadata": {
        "vscode": {
          "languageId": "plaintext"
        }
      },
      "outputs": [],
      "source": [
        "## Key Features\n",
        "\n",
        "- **🚀 Zero Gas Fees**: No cryptocurrency required for transactions\n",
        "- **🔑 FREE API Keys**: Get started immediately from the portal  \n",
        "- **🛡️ Production Ready**: Enterprise-grade security and reliability\n",
        "- **🤖 AI-First**: Designed specifically for AI agent integration\n",
        "- **⚡ Fast**: Direct API access without wallet management\n",
        "- **📚 Complete**: Full smart contract lifecycle support\n",
        "\n",
        "## Support\n",
        "\n",
        "- **Portal**: [portal.stabilityprotocol.com](https://portal.stabilityprotocol.com/)\n",
        "- **Email**: contact@stabilityprotocol.com  \n",
        "- **GitHub**: [stability-toolkit](https://github.com/nuljui/stability-toolkit)\n",
        "- **PyPI**: [stability-toolkit](https://pypi.org/project/stability-toolkit/)\n"
      ]
    },
    {
      "cell_type": "code",
      "execution_count": null,
      "metadata": {
        "vscode": {
          "languageId": "plaintext"
        }
      },
      "outputs": [],
      "source": [
        "---\n",
        "sidebar_label: Stability\n",
        "---\n"
      ]
    },
    {
      "cell_type": "code",
      "execution_count": null,
      "metadata": {
        "vscode": {
          "languageId": "plaintext"
        }
      },
      "outputs": [],
      "source": [
        "# Stability\n",
        "\n",
        "[Stability Protocol](https://portal.stabilityprotocol.com/) provides the first Zero Gas Transaction (ZKT) API, enabling AI agents to interact with blockchain without cryptocurrency requirements.\n",
        "\n",
        "The Stability Toolkit allows LangChain agents to deploy smart contracts, read/write blockchain data, and send transactions with zero gas fees using FREE API keys.\n",
        "\n",
        "## Installation and Setup\n",
        "\n",
        "Install the Stability Toolkit:\n"
      ]
    },
    {
      "cell_type": "code",
      "execution_count": null,
      "metadata": {},
      "outputs": [],
      "source": [
        "!pip install stability-toolkit\n"
      ]
    },
    {
      "cell_type": "code",
      "execution_count": null,
      "metadata": {},
      "outputs": [],
      "source": [
        "Get your FREE API key from [portal.stabilityprotocol.com](https://portal.stabilityprotocol.com/):\n",
        "- Up to 3 API keys per account\n",
        "- 1,000 write transactions per month  \n",
        "- 200 read operations per minute\n",
        "- Completely free access\n",
        "\n",
        "Set your API key:\n"
      ]
    },
    {
      "cell_type": "code",
      "execution_count": null,
      "metadata": {},
      "outputs": [],
      "source": [
        "import os\n",
        "os.environ[\"STABILITY_API_KEY\"] = \"your-api-key-from-portal\"\n"
      ]
    },
    {
      "cell_type": "code",
      "execution_count": null,
      "metadata": {},
      "outputs": [],
      "source": [
        "## Tools\n",
        "\n",
        "The Stability Toolkit provides 4 main tools for blockchain interaction:\n",
        "\n",
        "### StabilityWriteTool\n",
        "Send plain text messages to the Stability blockchain using ZKT v1.\n",
        "\n",
        "### StabilityReadTool  \n",
        "Read data from smart contracts using ZKT v2 read requests.\n",
        "\n",
        "### StabilityWriteContractTool\n",
        "Execute state-changing smart contract calls using ZKT v2 write requests.\n",
        "\n",
        "### StabilityDeployTool\n",
        "Deploy Solidity smart contracts to the Stability blockchain.\n",
        "\n",
        "## Toolkit Usage\n",
        "\n",
        "Initialize the toolkit and get all tools:\n"
      ]
    },
    {
      "cell_type": "code",
      "execution_count": null,
      "metadata": {},
      "outputs": [],
      "source": [
        "from stability_toolkit import StabilityToolkit\n",
        "\n",
        "# Initialize with environment variable\n",
        "toolkit = StabilityToolkit()\n",
        "\n",
        "# Or pass API key directly  \n",
        "# toolkit = StabilityToolkit(api_key=\"your-api-key-from-portal\")\n",
        "\n",
        "# Get all tools\n",
        "tools = toolkit.get_tools()\n",
        "print(f\"Available tools: {len(tools)}\")\n",
        "for tool in tools:\n",
        "    print(f\"- {tool.name}: {tool.description}\")\n"
      ]
    },
    {
      "cell_type": "code",
      "execution_count": null,
      "metadata": {},
      "outputs": [],
      "source": [
        "## Example Usage\n",
        "\n",
        "### Basic Message to Blockchain\n",
        "\n",
        "Send a simple message to the Stability blockchain:\n"
      ]
    },
    {
      "cell_type": "code",
      "execution_count": null,
      "metadata": {},
      "outputs": [],
      "source": [
        "# Send a message to blockchain\n",
        "write_tool = tools[0]  # StabilityWriteTool\n",
        "result = write_tool.invoke(\"Hello from LangChain!\")\n",
        "print(f\"Transaction result: {result}\")\n"
      ]
    },
    {
      "cell_type": "code",
      "execution_count": null,
      "metadata": {},
      "outputs": [],
      "source": [
        "### Smart Contract Interaction\n",
        "\n",
        "Read from and write to smart contracts:\n"
      ]
    },
    {
      "cell_type": "code",
      "execution_count": null,
      "metadata": {},
      "outputs": [],
      "source": [
        "import json\n",
        "\n",
        "# Read from a smart contract\n",
        "read_tool = tools[1]  # StabilityReadTool\n",
        "read_params = {\n",
        "    \"to\": \"0x1234567890123456789012345678901234567890\",\n",
        "    \"abi\": [\"function balanceOf(address) view returns (uint256)\"],\n",
        "    \"method\": \"balanceOf\", \n",
        "    \"arguments\": [\"0xabcdefabcdefabcdefabcdefabcdefabcdefabcd\"]\n",
        "}\n",
        "balance = read_tool.invoke(json.dumps(read_params))\n",
        "print(f\"Balance: {balance}\")\n"
      ]
    },
    {
      "cell_type": "code",
      "execution_count": null,
      "metadata": {},
      "outputs": [],
      "source": [
        "# Write to a smart contract\n",
        "write_contract_tool = tools[2]  # StabilityWriteContractTool\n",
        "write_params = {\n",
        "    \"to\": \"0x1234567890123456789012345678901234567890\",\n",
        "    \"abi\": [\"function transfer(address,uint256) returns (bool)\"],\n",
        "    \"method\": \"transfer\",\n",
        "    \"arguments\": [\"0xrecipientaddress\", 1000],\n",
        "    \"wait\": True,\n",
        "    \"id\": 1\n",
        "}\n",
        "tx_result = write_contract_tool.invoke(json.dumps(write_params))\n",
        "print(f\"Transaction: {tx_result}\")\n"
      ]
    },
    {
      "cell_type": "code",
      "execution_count": null,
      "metadata": {},
      "outputs": [],
      "source": [
        "### Smart Contract Deployment\n",
        "\n",
        "Deploy new smart contracts to the blockchain:\n"
      ]
    },
    {
      "cell_type": "code",
      "execution_count": null,
      "metadata": {},
      "outputs": [],
      "source": [
        "# Deploy a new smart contract\n",
        "deploy_tool = tools[3]  # StabilityDeployTool\n",
        "contract_code = \"\"\"\n",
        "pragma solidity ^0.8.0;\n",
        "contract SimpleStorage {\n",
        "    uint256 public value;\n",
        "    function setValue(uint256 _value) public { value = _value; }\n",
        "}\n",
        "\"\"\"\n",
        "deploy_params = {\n",
        "    \"code\": contract_code,\n",
        "    \"arguments\": [],\n",
        "    \"wait\": False,\n",
        "    \"id\": 1\n",
        "}\n",
        "deployment = deploy_tool.invoke(json.dumps(deploy_params))\n",
        "print(f\"Contract deployed: {deployment}\")\n"
      ]
    },
    {
      "cell_type": "code",
      "execution_count": null,
      "metadata": {},
      "outputs": [],
      "source": [
        "### Integration with LangChain Agents\n",
        "\n",
        "Use the Stability Toolkit with LangChain agents:\n"
      ]
    },
    {
      "cell_type": "code",
      "execution_count": null,
      "metadata": {},
      "outputs": [],
      "source": [
        "from langchain.agents import initialize_agent, AgentType\n",
        "from langchain_openai import ChatOpenAI\n",
        "\n",
        "# Initialize LLM and tools\n",
        "llm = ChatOpenAI(temperature=0)\n",
        "toolkit = StabilityToolkit(api_key=\"your-api-key\")\n",
        "tools = toolkit.get_tools()\n",
        "\n",
        "# Create agent with Stability tools\n",
        "agent = initialize_agent(\n",
        "    tools=tools,\n",
        "    llm=llm,\n",
        "    agent=AgentType.ZERO_SHOT_REACT_DESCRIPTION,\n",
        "    verbose=True\n",
        ")\n",
        "\n",
        "# Agent can now interact with blockchain\n",
        "result = agent.run(\n",
        "    \"Send a message 'AI agent transaction' to the blockchain and return the transaction hash\"\n",
        ")\n",
        "print(result)\n"
      ]
    },
    {
      "cell_type": "code",
      "execution_count": null,
      "metadata": {},
      "outputs": [],
      "source": [
        "## Key Features\n",
        "\n",
        "- **🚀 Zero Gas Fees**: No cryptocurrency required for transactions\n",
        "- **🔑 FREE API Keys**: Get started immediately from the portal  \n",
        "- **🛡️ Production Ready**: Enterprise-grade security and reliability\n",
        "- **🤖 AI-First**: Designed specifically for AI agent integration\n",
        "- **⚡ Fast**: Direct API access without wallet management\n",
        "- **📚 Complete**: Full smart contract lifecycle support\n",
        "\n",
        "## Support\n",
        "\n",
        "- **Portal**: [portal.stabilityprotocol.com](https://portal.stabilityprotocol.com/)\n",
        "- **Email**: contact@stabilityprotocol.com  \n",
        "- **GitHub**: [stability-toolkit](https://github.com/nuljui/stability-toolkit)\n",
        "- **PyPI**: [stability-toolkit](https://pypi.org/project/stability-toolkit/)\n",
        "\n",
        "## Related\n",
        "\n",
        "- [Tool calling](/docs/how_to/tool_calling/)\n",
        "- [Custom tools](/docs/how_to/custom_tools/)\n",
        "- [Toolkits](/docs/how_to/toolkits/)\n"
      ]
    }
  ],
  "metadata": {
    "language_info": {
      "name": "python"
    }
  },
  "nbformat": 4,
  "nbformat_minor": 2
}
